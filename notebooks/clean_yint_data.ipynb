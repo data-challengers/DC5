{
 "cells": [
  {
   "cell_type": "code",
   "execution_count": 15,
   "metadata": {},
   "outputs": [],
   "source": [
    "import pandas as pd\n",
    "import numpy as np\n",
    "from datetime import timedelta"
   ]
  },
  {
   "cell_type": "code",
   "execution_count": 16,
   "metadata": {},
   "outputs": [],
   "source": [
    "def find_string_in_messages(df, string_to_find):\n",
    "    \"\"\"\n",
    "    Find a string in df and return a subset df that of messages that include the string\n",
    "    :param: df: dataframe of interest\n",
    "    :param: string_to_find: the string to find in message\n",
    "    \"\"\"\n",
    "    subset_df = df[df['message'].str.contains(string_to_find, na=False, case=False)]\n",
    "    subset_df.reset_index(inplace=True)\n",
    "    return subset_df\n",
    "\n",
    "def get_account_message_counts(df):\n",
    "    \"\"\"\n",
    "    For each account in the dataframe, creates a count for how many messages they have sent\n",
    "    and returns a dataframe that contains account names and count.\n",
    "    :param: df: dataframe of interest\n",
    "    \"\"\"\n",
    "    account_sums = df.groupby(['account']).size().reset_index(name='count')\n",
    "    account_sums = account_sums.sort_values(by=['count'], ascending=False)\n",
    "    return account_sums\n",
    "\n",
    "def get_topic_df(df, keywords):\n",
    "    \"\"\"\n",
    "    Creates a subset df of messages that include strings from a list of keywords\n",
    "    :param: df: dataframe of interest\n",
    "    :param: keywords: list of strings to select for\n",
    "    \"\"\"\n",
    "    mask = df[df['message'].str.contains('|'.join(keywords), na=False, case=False)]\n",
    "    mask.reset_index(inplace=True, drop=True)\n",
    "    return mask"
   ]
  },
  {
   "cell_type": "code",
   "execution_count": 17,
   "metadata": {},
   "outputs": [],
   "source": [
    "def clean_yint_data(file_url):\n",
    "    \"\"\"\n",
    "    Takes in a hosted csv file of yint messages and returns a cleaned dataframe\n",
    "    Removes standard bots to allow gov officials to quickly remove non-community member posts\n",
    "    \n",
    "    Removes commercial bots promoting deals and bots promoting usage of the rumble app\n",
    "    \n",
    "    Note: recommend doing spot checks to ensure real users are not being removed\n",
    "    \n",
    "    :param: file_url: the hosted location of a raw csv file containing y*int data\n",
    "    \"\"\"\n",
    "    df = pd.read_csv(file_url, parse_dates=[0], infer_datetime_format=True)\n",
    "    \n",
    "    # Create time frame for data\n",
    "    start_date = min(df['time'])\n",
    "    end_date = max(df['time'])\n",
    "    delta = end_date - start_date\n",
    "    days = delta.days\n",
    "    # get a standard amount of posts per day that would probably be a bot\n",
    "    # in this case, I set the standard to 10+ posts a day\n",
    "    bot_level_posting = 10*days \n",
    "    \n",
    "    # Eliminate \"deals\" bots promoting commercial info\n",
    "    bot_keywords = ['deal', 'sale', 'rumble']\n",
    "    potential_bot_df = get_topic_df(df, bot_keywords)\n",
    "    # Get list of accounts that mention deals\n",
    "    potential_bot_accounts = potential_bot_df['account'].unique()\n",
    "    \n",
    "    # Remove users that don't seem like bots\n",
    "    boolean_series = df['account'].isin(potential_bot_accounts)\n",
    "    potential_bot_df = df[boolean_series]\n",
    "    account_sums = get_account_message_counts(potential_bot_df)\n",
    "    # NOTE: Recommend doing spot checks every so often to confirm you are not removing real users\n",
    "    bots = account_sums.loc[account_sums['count'] > bot_level_posting]\n",
    "    # Get list of bot account names\n",
    "    bot_accounts = bots['account'].unique()\n",
    "\n",
    "\n",
    "    # Create a df that doesn't include bots\n",
    "    cleaned_df = df[~df['account'].isin(bot_accounts)]\n",
    "    cleaned_df.reset_index(inplace=True)\n",
    "    return cleaned_df"
   ]
  },
  {
   "cell_type": "markdown",
   "metadata": {},
   "source": [
    "### Running the notebook\n",
    "Paste the url of your hosted csv below to create the cleaned dataset. "
   ]
  },
  {
   "cell_type": "code",
   "execution_count": 18,
   "metadata": {},
   "outputs": [],
   "source": [
    "# Edit the url variable here:\n",
    "url = 'https://raw.githubusercontent.com/data-challengers/DC5/main/DC5-Data/YInt%20Social%20Media%20Data/YInt.csv'\n",
    "cleaned_df = clean_yint_data(url)"
   ]
  }
 ],
 "metadata": {
  "kernelspec": {
   "display_name": "Python 3",
   "language": "python",
   "name": "python3"
  },
  "language_info": {
   "codemirror_mode": {
    "name": "ipython",
    "version": 3
   },
   "file_extension": ".py",
   "mimetype": "text/x-python",
   "name": "python",
   "nbconvert_exporter": "python",
   "pygments_lexer": "ipython3",
   "version": "3.7.4"
  }
 },
 "nbformat": 4,
 "nbformat_minor": 4
}
