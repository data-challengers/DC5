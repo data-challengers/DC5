{
 "cells": [
  {
   "cell_type": "markdown",
   "metadata": {},
   "source": [
    "# Y\\*Int Social Media Analysis\n",
    "#### Ester Zhao"
   ]
  },
  {
   "cell_type": "code",
   "execution_count": 20,
   "metadata": {},
   "outputs": [],
   "source": [
    "import pandas as pd\n",
    "import matplotlib.pyplot as plt\n",
    "from datetime import timedelta"
   ]
  },
  {
   "cell_type": "code",
   "execution_count": 30,
   "metadata": {},
   "outputs": [
    {
     "name": "stdout",
     "output_type": "stream",
     "text": [
      "['Weston' 'Southton' 'Broadview' 'West Parton' 'Old Town'\n",
      " 'Terrapin Springs' 'Downtown' 'Southwest' 'Scenic Vista' 'East Parton'\n",
      " 'Cheddarford' 'Palace Hills' 'Safe Town' 'Easton' 'Chapparal' 'Northwest'\n",
      " 'Oak Willow' 'Pepper Mill' 'Wilson Forest' 'UNKNOWN'\n",
      " '<Location with-held due to contract>']\n"
     ]
    }
   ],
   "source": [
    "url = 'https://raw.githubusercontent.com/data-challengers/DC5/main/DC5-Data/YInt%20Social%20Media%20Data/YInt.csv'\n",
    "df = pd.read_csv(url, parse_dates=[0], infer_datetime_format=True)\n",
    "df.head()"
   ]
  },
  {
   "cell_type": "code",
   "execution_count": 36,
   "metadata": {},
   "outputs": [],
   "source": [
    "# Create string parser for df\n",
    "def find_string_in_messages(df, string_to_find):\n",
    "    subset_df = df[df['message'].str.contains(string_to_find, na=False)]\n",
    "    subset_df.reset_index()\n",
    "    return subset_df"
   ]
  },
  {
   "cell_type": "code",
   "execution_count": 37,
   "metadata": {},
   "outputs": [
    {
     "name": "stdout",
     "output_type": "stream",
     "text": [
      "St Himark Neighborhoods:  21 \n",
      " ['Weston' 'Southton' 'Broadview' 'West Parton' 'Old Town'\n",
      " 'Terrapin Springs' 'Downtown' 'Southwest' 'Scenic Vista' 'East Parton'\n",
      " 'Cheddarford' 'Palace Hills' 'Safe Town' 'Easton' 'Chapparal' 'Northwest'\n",
      " 'Oak Willow' 'Pepper Mill' 'Wilson Forest' 'UNKNOWN'\n",
      " '<Location with-held due to contract>']\n"
     ]
    }
   ],
   "source": [
    "# Get list of neighborhoods being used in Yint dataset\n",
    "neighborhoods = df['location'].unique()\n",
    "print('St Himark Neighborhoods: ', len(neighborhoods), '\\n',neighborhoods)"
   ]
  },
  {
   "cell_type": "code",
   "execution_count": 40,
   "metadata": {},
   "outputs": [
    {
     "name": "stdout",
     "output_type": "stream",
     "text": [
      "['CelebrityBrattyMatty' 'VeryPopularSingerLalisaManoban' 'CuriousGCandy'\n",
      " 'SmartBBread' 'DarkCandyWm_Wood' 'HimarkBand' 'GertieHorse74'\n",
      " 'FleetTIcecream' 'FastPBread72' 'FastBreadSteven_Chappell'\n",
      " 'FrankieFish96' 'SmartCarRoy' 'Simpson2002' 'WileyIcecreamBenny_Krick'\n",
      " 'BusyTurnerPlate' 'RobertsonCat14' 'FuriousJLight' 'FearsJohnBird'\n",
      " 'FearsKenneth_BarnettOctopus' 'CandidFCouch' 'LazyWBread'\n",
      " 'FastLightWilliam' 'DanielFish19' 'SAttentativeT' 'CuriousKatherynBanana'\n",
      " 'SmartJCouch' 'WileyMccardleCar50' 'RayDog1978' 'CandidUzielCouch1967'\n",
      " 'WileyLightScottie_Garcia' 'Jean_Goss86' 'Regina51F' 'DionHorse2011'\n",
      " 'ObnoxiousBLight1983' 'LovesElizabeth_MoralesLion' 'FastLLight98'\n",
      " 'GuapoBananaAllen' 'SmartFBowl12' 'RunsThompsonMouse' 'FleetLightMichael'\n",
      " 'FastBCar' 'WileyPlateLupe_Cole' 'CuriousWBanana73' 'City EOC'\n",
      " 'DarkCandyChristopher_Iverson' 'Gordon1985' 'FigueroaOctopus1959'\n",
      " 'GuapoKCar' 'CuriousPlateJohn_Paine' 'Oskr' 'Wiretap Phone Company'\n",
      " 'Pinne' 'Teresa97A' 'AttentativeDBanana15' 'BobbyBob' 'Quarke'\n",
      " 'WalterBear25' 'SimplySam' 'HavoHavo' 'Irene_Powell90' 'Jennifer16M'\n",
      " 'WatchesKurtCat' 'FuriousCouchRobin_Painter' 'GlennCat1965' 'DarkWLight'\n",
      " 'CuriousEBread' 'LazyCouchElvin_Ottesen' 'Cynthia15H' 'M34Rahmani'\n",
      " 'TallPlatePaige' 'FuriousPlateJean_Lanier' 'Larry_LeetBear12'\n",
      " 'SmartRBowl' 'ThesaurusGasCompany' 'GuapoKathrynHouse' 'ThomasOctopus75'\n",
      " 'BusyBradleyPlate' 'Frank1988' 'Lisamona' 'St Himark Parks Department'\n",
      " 'Gilbert' 'Hanscom' 'Mabble' 'Norst' 'FastCandyJerry' 'LazyWBanana'\n",
      " 'TallMayesHouse2003' 'FastArmstrongBowl65' 'FamousPlateLee'\n",
      " 'WileyPlateHunter' 'LazyHLight40' 'LorettaSmartRay' 'Oleta1995B'\n",
      " 'StHimarkMusicFest' 'LazyGCandy56' 'WFuriousL'\n",
      " 'St Himark Human Resources Dept.' 'AttentativeJLight' 'KellerFish1960'\n",
      " 'ObnoxiousGarciaBanana50' 'RunsLamonicaWhale' 'Risky3Roy' 'SertsBlanket'\n",
      " 'TorTuga12' 'HopeSpringsEternal']\n"
     ]
    }
   ],
   "source": [
    "# Get subset of messages sent from outside neighborhoods\n",
    "other_neighborhoods = df[df['location'].isin(['UNKNOWN', '<Location with-held due to contract>'])]\n",
    "non_neighborhood_users = other_neighborhoods['account'].unique()\n",
    "print(non_neighborhood_users)"
   ]
  },
  {
   "cell_type": "code",
   "execution_count": 42,
   "metadata": {},
   "outputs": [
    {
     "name": "stdout",
     "output_type": "stream",
     "text": [
      "                     time          location                      account  \\\n",
      "4     2020-04-06 00:07:00       West Parton    CuriousPlateBobbie_Mallon   \n",
      "9     2020-04-06 00:16:00         Southwest                Grant1953Rapp   \n",
      "20    2020-04-06 00:50:00            Weston                FastBBanana40   \n",
      "24    2020-04-06 01:01:00       West Parton      Marisela_KozmaMouse1991   \n",
      "26    2020-04-06 01:08:00            Weston             Manuel_OrrLion64   \n",
      "...                   ...               ...                          ...   \n",
      "40833 2020-04-10 09:36:00       West Parton                     LazyHCar   \n",
      "41413 2020-04-10 11:01:00          Southton               ESmartLuescher   \n",
      "41757 2020-04-10 11:38:00         Southwest               Christine1963M   \n",
      "41770 2020-04-10 11:40:00          Downtown              SmartJHouse1985   \n",
      "41858 2020-04-10 11:49:00  Terrapin Springs  AttentativeFrancisBread2011   \n",
      "\n",
      "                                                 message  \n",
      "4      You obviously need to use rumble! #rumble #toW...  \n",
      "9         obviously need to get rumble after that quake!  \n",
      "20      Start using snatching rumble, right now! #rumble  \n",
      "24       Start using getting rumble, right away! #rumble  \n",
      "26     absolutely going to snatch rumble after that s...  \n",
      "...                                                  ...  \n",
      "40833  After all that trembling, it's time to snatch ...  \n",
      "41413  clearly going to use rumble after that quivering!  \n",
      "41757   After all that quaking, it's time to use rumble!  \n",
      "41770              You claerlylearly need to get rumble!  \n",
      "41858  obviously going to get rumble after that movin...  \n",
      "\n",
      "[478 rows x 4 columns]\n",
      "['West Parton' 'Southwest' 'Weston' 'Southton' 'Easton' 'Old Town'\n",
      " 'Safe Town' 'Palace Hills' 'Oak Willow' 'Scenic Vista' 'Broadview'\n",
      " 'Downtown' 'Terrapin Springs' 'Northwest' 'Cheddarford' 'Chapparal'\n",
      " 'East Parton' 'Pepper Mill']\n"
     ]
    }
   ],
   "source": [
    "rumble_df = find_string_in_messages(df, \"rumble\")\n",
    "print(rumble_df)\n",
    "\n",
    "rumble_neighborhoods = rumble_df['location'].unique()\n",
    "print(rumble_neighborhoods)"
   ]
  },
  {
   "cell_type": "code",
   "execution_count": null,
   "metadata": {},
   "outputs": [],
   "source": [
    "# Plot frequency of messaging from neighborhoods over time\n"
   ]
  }
 ],
 "metadata": {
  "kernelspec": {
   "display_name": "Python 3",
   "language": "python",
   "name": "python3"
  },
  "language_info": {
   "codemirror_mode": {
    "name": "ipython",
    "version": 3
   },
   "file_extension": ".py",
   "mimetype": "text/x-python",
   "name": "python",
   "nbconvert_exporter": "python",
   "pygments_lexer": "ipython3",
   "version": "3.7.4"
  }
 },
 "nbformat": 4,
 "nbformat_minor": 4
}
